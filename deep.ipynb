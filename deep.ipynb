{
 "cells": [
  {
   "cell_type": "code",
   "execution_count": 1,
   "id": "1b542ebf",
   "metadata": {},
   "outputs": [],
   "source": [
    "import os\n",
    "import numpy as np\n",
    "import pandas as pd\n",
    "import librosa\n",
    "import random\n",
    "import matplotlib.pyplot as plt\n",
    "import seaborn as sns\n",
    "from glob import glob\n",
    "from itertools import cycle\n",
    "\n",
    "from sklearn.model_selection import train_test_split\n",
    "from sklearn.preprocessing import LabelEncoder, PowerTransformer, StandardScaler\n",
    "from imblearn.over_sampling import RandomOverSampler\n",
    "\n",
    "from tensorflow.keras.models import Sequential\n",
    "from tensorflow.keras.layers import LSTM, Dense, Dropout\n",
    "from tensorflow.keras.callbacks import EarlyStopping\n",
    "from tensorflow.keras.utils import to_categorical\n",
    "\n",
    "import pickle\n"
   ]
  },
  {
   "cell_type": "code",
   "execution_count": 2,
   "id": "db93d14c",
   "metadata": {},
   "outputs": [],
   "source": [
    "# Dataset paths\n",
    "ravdess_path = r\"C:\\Users\\abdul\\Downloads\\audio-testing\\RAVDESS-AUDIO-DATASET\"\n",
    "crema_path = r\"C:\\Users\\abdul\\Downloads\\audio-testing\\CREMA-D -AUDIO-DATASET\"\n",
    "tess_path = r\"C:\\Users\\abdul\\Downloads\\audio-testing\\TESS Toronto emotional speech set data\"\n",
    "\n",
    "# Label extractors\n",
    "def extract_label_ravdess(file):\n",
    "    parts = os.path.basename(file).split(\"-\")\n",
    "    return {\n",
    "        '01': 'neutral', '02': 'calm', '03': 'happy', '04': 'sad',\n",
    "        '05': 'angry', '06': 'fearful', '07': 'disgust', '08': 'surprised'\n",
    "    }.get(parts[2], \"unknown\")\n",
    "\n",
    "def extract_label_crema(file):\n",
    "    return {\n",
    "        'ANG': 'angry', 'DIS': 'disgust', 'FEA': 'fearful',\n",
    "        'HAP': 'happy', 'NEU': 'neutral', 'SAD': 'sad'\n",
    "    }.get(os.path.basename(file).split('_')[2], \"unknown\")\n",
    "\n",
    "def extract_label_tess(file):\n",
    "    return os.path.basename(file).split('_')[-1].replace('.wav', '').lower()\n"
   ]
  },
  {
   "cell_type": "code",
   "execution_count": 3,
   "id": "7401d1b9",
   "metadata": {},
   "outputs": [],
   "source": [
    "def add_noise(y, noise_factor=0.005):\n",
    "    return y + noise_factor * np.random.randn(len(y))\n",
    "\n",
    "def shift_audio(y, shift_max=0.2):\n",
    "    shift = int(random.uniform(-shift_max, shift_max) * len(y))\n",
    "    return np.roll(y, shift)\n",
    "\n",
    "def stretch_audio(y, rate=1.1):\n",
    "    try:\n",
    "        return librosa.effects.time_stretch(y, rate)\n",
    "    except:\n",
    "        return y\n",
    "\n",
    "def pitch_shift_audio(y, sr, n_steps=2):\n",
    "    try:\n",
    "        return librosa.effects.pitch_shift(y, sr=sr, n_steps=n_steps)\n",
    "    except:\n",
    "        return y\n"
   ]
  },
  {
   "cell_type": "code",
   "execution_count": 4,
   "id": "60233ddf",
   "metadata": {},
   "outputs": [],
   "source": [
    "def extract_features(file, label_extractor, augment=False):\n",
    "    try:\n",
    "        y, sr = librosa.load(file, sr=22050, mono=True)\n",
    "\n",
    "        if augment:\n",
    "            aug = random.choice(['noise', 'shift', 'stretch', 'pitch'])\n",
    "            if aug == 'noise': y = add_noise(y)\n",
    "            elif aug == 'shift': y = shift_audio(y)\n",
    "            elif aug == 'stretch': y = stretch_audio(y, random.uniform(0.8, 1.2))\n",
    "            elif aug == 'pitch': y = pitch_shift_audio(y, sr, random.randint(-2, 2))\n",
    "\n",
    "        features = []\n",
    "\n",
    "        mfccs = librosa.feature.mfcc(y=y, sr=sr, n_mfcc=13)\n",
    "        features.extend(np.mean(mfccs, axis=1))\n",
    "        features.extend(np.std(mfccs, axis=1))\n",
    "\n",
    "        chroma = librosa.feature.chroma_stft(y=y, sr=sr)\n",
    "        features.extend(np.mean(chroma, axis=1))\n",
    "        features.extend(np.std(chroma, axis=1))\n",
    "\n",
    "        zcr = librosa.feature.zero_crossing_rate(y)\n",
    "        features.append(np.mean(zcr))\n",
    "        features.append(np.std(zcr))\n",
    "\n",
    "        rms = librosa.feature.rms(y=y)\n",
    "        features.append(np.mean(rms))\n",
    "        features.append(np.std(rms))\n",
    "\n",
    "        contrast = librosa.feature.spectral_contrast(y=y, sr=sr)\n",
    "        features.extend(np.mean(contrast, axis=1))\n",
    "        features.extend(np.std(contrast, axis=1))\n",
    "\n",
    "        label = label_extractor(file)\n",
    "        return features, label\n",
    "\n",
    "    except Exception as e:\n",
    "        print(f\"Error with {file}: {e}\")\n",
    "        return None, None\n"
   ]
  },
  {
   "cell_type": "code",
   "execution_count": 5,
   "id": "c31736e4",
   "metadata": {},
   "outputs": [],
   "source": [
    "data = []\n",
    "\n",
    "# RAVDESS\n",
    "for file in glob(os.path.join(ravdess_path, '**', '*.wav'), recursive=True):\n",
    "    f, l = extract_features(file, extract_label_ravdess)\n",
    "    if f and l != \"unknown\":\n",
    "        data.append((f, l))\n",
    "\n",
    "# CREMA-D\n",
    "for file in glob(os.path.join(crema_path, '*.wav')):\n",
    "    f, l = extract_features(file, extract_label_crema)\n",
    "    if f and l != \"unknown\":\n",
    "        data.append((f, l))\n",
    "\n",
    "# TESS\n",
    "for file in glob(os.path.join(tess_path, '**', '*.wav')):\n",
    "    f, l = extract_features(file, extract_label_tess)\n",
    "    if f and l != \"unknown\":\n",
    "        data.append((f, l))\n"
   ]
  },
  {
   "cell_type": "code",
   "execution_count": 6,
   "id": "54cf64da",
   "metadata": {},
   "outputs": [],
   "source": [
    "features, labels = zip(*data)\n",
    "df = pd.DataFrame(features)\n",
    "df['labels'] = labels\n",
    "\n",
    "# Encode labels\n",
    "le = LabelEncoder()\n",
    "df['labels'] = le.fit_transform(df['labels'])\n",
    "\n",
    "X = df.drop(columns='labels').values\n",
    "y = df['labels'].values\n",
    "\n",
    "# Normalize\n",
    "pt = PowerTransformer()\n",
    "X = pt.fit_transform(X)\n",
    "\n",
    "scaler = StandardScaler()\n",
    "X = scaler.fit_transform(X)\n",
    "\n",
    "# Reshape for LSTM: (samples, timesteps, features)\n",
    "X = X.reshape((X.shape[0], 1, X.shape[1]))\n",
    "\n",
    "# One-hot encode target\n",
    "y = to_categorical(y)\n",
    "\n",
    "# Split\n",
    "X_train, X_test, y_train, y_test = train_test_split(X, y, test_size=0.25, random_state=42)\n"
   ]
  },
  {
   "cell_type": "code",
   "execution_count": 7,
   "id": "5dddc7ca",
   "metadata": {},
   "outputs": [
    {
     "name": "stderr",
     "output_type": "stream",
     "text": [
      "c:\\Users\\abdul\\AppData\\Local\\Programs\\Python\\Python310\\lib\\site-packages\\keras\\src\\layers\\rnn\\rnn.py:200: UserWarning: Do not pass an `input_shape`/`input_dim` argument to a layer. When using Sequential models, prefer using an `Input(shape)` object as the first layer in the model instead.\n",
      "  super().__init__(**kwargs)\n"
     ]
    },
    {
     "name": "stdout",
     "output_type": "stream",
     "text": [
      "Epoch 1/60\n",
      "\u001b[1m88/88\u001b[0m \u001b[32m━━━━━━━━━━━━━━━━━━━━\u001b[0m\u001b[37m\u001b[0m \u001b[1m9s\u001b[0m 17ms/step - accuracy: 0.4090 - loss: 1.9745 - val_accuracy: 0.7390 - val_loss: 0.9141\n",
      "Epoch 2/60\n",
      "\u001b[1m88/88\u001b[0m \u001b[32m━━━━━━━━━━━━━━━━━━━━\u001b[0m\u001b[37m\u001b[0m \u001b[1m1s\u001b[0m 9ms/step - accuracy: 0.7316 - loss: 0.8247 - val_accuracy: 0.7723 - val_loss: 0.5974\n",
      "Epoch 3/60\n",
      "\u001b[1m88/88\u001b[0m \u001b[32m━━━━━━━━━━━━━━━━━━━━\u001b[0m\u001b[37m\u001b[0m \u001b[1m1s\u001b[0m 9ms/step - accuracy: 0.7958 - loss: 0.5715 - val_accuracy: 0.8099 - val_loss: 0.5167\n",
      "Epoch 4/60\n",
      "\u001b[1m88/88\u001b[0m \u001b[32m━━━━━━━━━━━━━━━━━━━━\u001b[0m\u001b[37m\u001b[0m \u001b[1m1s\u001b[0m 8ms/step - accuracy: 0.8225 - loss: 0.4779 - val_accuracy: 0.8217 - val_loss: 0.4886\n",
      "Epoch 5/60\n",
      "\u001b[1m88/88\u001b[0m \u001b[32m━━━━━━━━━━━━━━━━━━━━\u001b[0m\u001b[37m\u001b[0m \u001b[1m1s\u001b[0m 8ms/step - accuracy: 0.8458 - loss: 0.4439 - val_accuracy: 0.8389 - val_loss: 0.4490\n",
      "Epoch 6/60\n",
      "\u001b[1m88/88\u001b[0m \u001b[32m━━━━━━━━━━━━━━━━━━━━\u001b[0m\u001b[37m\u001b[0m \u001b[1m1s\u001b[0m 9ms/step - accuracy: 0.8491 - loss: 0.4004 - val_accuracy: 0.8475 - val_loss: 0.4279\n",
      "Epoch 7/60\n",
      "\u001b[1m88/88\u001b[0m \u001b[32m━━━━━━━━━━━━━━━━━━━━\u001b[0m\u001b[37m\u001b[0m \u001b[1m1s\u001b[0m 12ms/step - accuracy: 0.8585 - loss: 0.3917 - val_accuracy: 0.8453 - val_loss: 0.4071\n",
      "Epoch 8/60\n",
      "\u001b[1m88/88\u001b[0m \u001b[32m━━━━━━━━━━━━━━━━━━━━\u001b[0m\u001b[37m\u001b[0m \u001b[1m1s\u001b[0m 12ms/step - accuracy: 0.8817 - loss: 0.3408 - val_accuracy: 0.8647 - val_loss: 0.3895\n",
      "Epoch 9/60\n",
      "\u001b[1m88/88\u001b[0m \u001b[32m━━━━━━━━━━━━━━━━━━━━\u001b[0m\u001b[37m\u001b[0m \u001b[1m1s\u001b[0m 11ms/step - accuracy: 0.8827 - loss: 0.3292 - val_accuracy: 0.8647 - val_loss: 0.3786\n",
      "Epoch 10/60\n",
      "\u001b[1m88/88\u001b[0m \u001b[32m━━━━━━━━━━━━━━━━━━━━\u001b[0m\u001b[37m\u001b[0m \u001b[1m1s\u001b[0m 10ms/step - accuracy: 0.8857 - loss: 0.3097 - val_accuracy: 0.8679 - val_loss: 0.3601\n",
      "Epoch 11/60\n",
      "\u001b[1m88/88\u001b[0m \u001b[32m━━━━━━━━━━━━━━━━━━━━\u001b[0m\u001b[37m\u001b[0m \u001b[1m1s\u001b[0m 10ms/step - accuracy: 0.8852 - loss: 0.3082 - val_accuracy: 0.8743 - val_loss: 0.3474\n",
      "Epoch 12/60\n",
      "\u001b[1m88/88\u001b[0m \u001b[32m━━━━━━━━━━━━━━━━━━━━\u001b[0m\u001b[37m\u001b[0m \u001b[1m1s\u001b[0m 11ms/step - accuracy: 0.8952 - loss: 0.2954 - val_accuracy: 0.8765 - val_loss: 0.3440\n",
      "Epoch 13/60\n",
      "\u001b[1m88/88\u001b[0m \u001b[32m━━━━━━━━━━━━━━━━━━━━\u001b[0m\u001b[37m\u001b[0m \u001b[1m1s\u001b[0m 10ms/step - accuracy: 0.9090 - loss: 0.2666 - val_accuracy: 0.8754 - val_loss: 0.3469\n",
      "Epoch 14/60\n",
      "\u001b[1m88/88\u001b[0m \u001b[32m━━━━━━━━━━━━━━━━━━━━\u001b[0m\u001b[37m\u001b[0m \u001b[1m1s\u001b[0m 10ms/step - accuracy: 0.9126 - loss: 0.2541 - val_accuracy: 0.8754 - val_loss: 0.3409\n",
      "Epoch 15/60\n",
      "\u001b[1m88/88\u001b[0m \u001b[32m━━━━━━━━━━━━━━━━━━━━\u001b[0m\u001b[37m\u001b[0m \u001b[1m1s\u001b[0m 11ms/step - accuracy: 0.9174 - loss: 0.2547 - val_accuracy: 0.8840 - val_loss: 0.3252\n",
      "Epoch 16/60\n",
      "\u001b[1m88/88\u001b[0m \u001b[32m━━━━━━━━━━━━━━━━━━━━\u001b[0m\u001b[37m\u001b[0m \u001b[1m1s\u001b[0m 8ms/step - accuracy: 0.9129 - loss: 0.2549 - val_accuracy: 0.8776 - val_loss: 0.3277\n",
      "Epoch 17/60\n",
      "\u001b[1m88/88\u001b[0m \u001b[32m━━━━━━━━━━━━━━━━━━━━\u001b[0m\u001b[37m\u001b[0m \u001b[1m1s\u001b[0m 11ms/step - accuracy: 0.9304 - loss: 0.2083 - val_accuracy: 0.8840 - val_loss: 0.3172\n",
      "Epoch 18/60\n",
      "\u001b[1m88/88\u001b[0m \u001b[32m━━━━━━━━━━━━━━━━━━━━\u001b[0m\u001b[37m\u001b[0m \u001b[1m1s\u001b[0m 11ms/step - accuracy: 0.9193 - loss: 0.2201 - val_accuracy: 0.8872 - val_loss: 0.3230\n",
      "Epoch 19/60\n",
      "\u001b[1m88/88\u001b[0m \u001b[32m━━━━━━━━━━━━━━━━━━━━\u001b[0m\u001b[37m\u001b[0m \u001b[1m1s\u001b[0m 11ms/step - accuracy: 0.9279 - loss: 0.2088 - val_accuracy: 0.8926 - val_loss: 0.3057\n",
      "Epoch 20/60\n",
      "\u001b[1m88/88\u001b[0m \u001b[32m━━━━━━━━━━━━━━━━━━━━\u001b[0m\u001b[37m\u001b[0m \u001b[1m1s\u001b[0m 10ms/step - accuracy: 0.9231 - loss: 0.2144 - val_accuracy: 0.8861 - val_loss: 0.3166\n",
      "Epoch 21/60\n",
      "\u001b[1m88/88\u001b[0m \u001b[32m━━━━━━━━━━━━━━━━━━━━\u001b[0m\u001b[37m\u001b[0m \u001b[1m1s\u001b[0m 10ms/step - accuracy: 0.9231 - loss: 0.2091 - val_accuracy: 0.8969 - val_loss: 0.2999\n",
      "Epoch 22/60\n",
      "\u001b[1m88/88\u001b[0m \u001b[32m━━━━━━━━━━━━━━━━━━━━\u001b[0m\u001b[37m\u001b[0m \u001b[1m1s\u001b[0m 10ms/step - accuracy: 0.9350 - loss: 0.1830 - val_accuracy: 0.8818 - val_loss: 0.3255\n",
      "Epoch 23/60\n",
      "\u001b[1m88/88\u001b[0m \u001b[32m━━━━━━━━━━━━━━━━━━━━\u001b[0m\u001b[37m\u001b[0m \u001b[1m1s\u001b[0m 10ms/step - accuracy: 0.9468 - loss: 0.1571 - val_accuracy: 0.8915 - val_loss: 0.3022\n",
      "Epoch 24/60\n",
      "\u001b[1m88/88\u001b[0m \u001b[32m━━━━━━━━━━━━━━━━━━━━\u001b[0m\u001b[37m\u001b[0m \u001b[1m1s\u001b[0m 10ms/step - accuracy: 0.9444 - loss: 0.1571 - val_accuracy: 0.8958 - val_loss: 0.3040\n",
      "Epoch 25/60\n",
      "\u001b[1m88/88\u001b[0m \u001b[32m━━━━━━━━━━━━━━━━━━━━\u001b[0m\u001b[37m\u001b[0m \u001b[1m1s\u001b[0m 11ms/step - accuracy: 0.9404 - loss: 0.1576 - val_accuracy: 0.8861 - val_loss: 0.2985\n",
      "Epoch 26/60\n",
      "\u001b[1m88/88\u001b[0m \u001b[32m━━━━━━━━━━━━━━━━━━━━\u001b[0m\u001b[37m\u001b[0m \u001b[1m1s\u001b[0m 10ms/step - accuracy: 0.9382 - loss: 0.1716 - val_accuracy: 0.8926 - val_loss: 0.2947\n",
      "Epoch 27/60\n",
      "\u001b[1m88/88\u001b[0m \u001b[32m━━━━━━━━━━━━━━━━━━━━\u001b[0m\u001b[37m\u001b[0m \u001b[1m1s\u001b[0m 9ms/step - accuracy: 0.9497 - loss: 0.1430 - val_accuracy: 0.8947 - val_loss: 0.2985\n",
      "Epoch 28/60\n",
      "\u001b[1m88/88\u001b[0m \u001b[32m━━━━━━━━━━━━━━━━━━━━\u001b[0m\u001b[37m\u001b[0m \u001b[1m1s\u001b[0m 11ms/step - accuracy: 0.9465 - loss: 0.1541 - val_accuracy: 0.8915 - val_loss: 0.3097\n",
      "Epoch 29/60\n",
      "\u001b[1m88/88\u001b[0m \u001b[32m━━━━━━━━━━━━━━━━━━━━\u001b[0m\u001b[37m\u001b[0m \u001b[1m1s\u001b[0m 11ms/step - accuracy: 0.9552 - loss: 0.1338 - val_accuracy: 0.8926 - val_loss: 0.3041\n",
      "Epoch 30/60\n",
      "\u001b[1m88/88\u001b[0m \u001b[32m━━━━━━━━━━━━━━━━━━━━\u001b[0m\u001b[37m\u001b[0m \u001b[1m1s\u001b[0m 11ms/step - accuracy: 0.9462 - loss: 0.1472 - val_accuracy: 0.8980 - val_loss: 0.2950\n",
      "Epoch 31/60\n",
      "\u001b[1m88/88\u001b[0m \u001b[32m━━━━━━━━━━━━━━━━━━━━\u001b[0m\u001b[37m\u001b[0m \u001b[1m1s\u001b[0m 11ms/step - accuracy: 0.9551 - loss: 0.1257 - val_accuracy: 0.8840 - val_loss: 0.3117\n",
      "Epoch 32/60\n",
      "\u001b[1m88/88\u001b[0m \u001b[32m━━━━━━━━━━━━━━━━━━━━\u001b[0m\u001b[37m\u001b[0m \u001b[1m1s\u001b[0m 11ms/step - accuracy: 0.9515 - loss: 0.1327 - val_accuracy: 0.8926 - val_loss: 0.3121\n",
      "Epoch 33/60\n",
      "\u001b[1m88/88\u001b[0m \u001b[32m━━━━━━━━━━━━━━━━━━━━\u001b[0m\u001b[37m\u001b[0m \u001b[1m1s\u001b[0m 9ms/step - accuracy: 0.9590 - loss: 0.1209 - val_accuracy: 0.8980 - val_loss: 0.3073\n",
      "Epoch 34/60\n",
      "\u001b[1m88/88\u001b[0m \u001b[32m━━━━━━━━━━━━━━━━━━━━\u001b[0m\u001b[37m\u001b[0m \u001b[1m1s\u001b[0m 10ms/step - accuracy: 0.9591 - loss: 0.1077 - val_accuracy: 0.8926 - val_loss: 0.3159\n",
      "Epoch 35/60\n",
      "\u001b[1m88/88\u001b[0m \u001b[32m━━━━━━━━━━━━━━━━━━━━\u001b[0m\u001b[37m\u001b[0m \u001b[1m1s\u001b[0m 11ms/step - accuracy: 0.9626 - loss: 0.1084 - val_accuracy: 0.8937 - val_loss: 0.3178\n",
      "Epoch 36/60\n",
      "\u001b[1m88/88\u001b[0m \u001b[32m━━━━━━━━━━━━━━━━━━━━\u001b[0m\u001b[37m\u001b[0m \u001b[1m1s\u001b[0m 11ms/step - accuracy: 0.9546 - loss: 0.1211 - val_accuracy: 0.8926 - val_loss: 0.3116\n"
     ]
    }
   ],
   "source": [
    "model = Sequential()\n",
    "model.add(LSTM(128, return_sequences=False, input_shape=(X.shape[1], X.shape[2])))\n",
    "model.add(Dropout(0.3))\n",
    "model.add(Dense(64, activation='relu'))\n",
    "model.add(Dropout(0.3))\n",
    "model.add(Dense(y.shape[1], activation='softmax'))\n",
    "\n",
    "model.compile(loss='categorical_crossentropy', optimizer='adam', metrics=['accuracy'])\n",
    "\n",
    "es = EarlyStopping(monitor='val_loss', patience=10, restore_best_weights=True)\n",
    "\n",
    "history = model.fit(X_train, y_train, validation_data=(X_test, y_test), epochs=60, batch_size=32, callbacks=[es])\n"
   ]
  },
  {
   "cell_type": "code",
   "execution_count": 8,
   "id": "2bd39efd",
   "metadata": {},
   "outputs": [
    {
     "data": {
      "image/png": "[encoded data removed]",
      "text/plain": [
       "<Figure size 640x480 with 1 Axes>"
      ]
     },
     "metadata": {},
     "output_type": "display_data"
    },
    {
     "data": {
      "image/png": "[encoded data removed]",
      "text/plain": [
       "<Figure size 640x480 with 1 Axes>"
      ]
     },
     "metadata": {},
     "output_type": "display_data"
    }
   ],
   "source": [
    "import matplotlib.pyplot as plt\n",
    "\n",
    "# Accuracy plot\n",
    "plt.plot(history.history['accuracy'], label='Train Acc')\n",
    "plt.plot(history.history['val_accuracy'], label='Val Acc')\n",
    "plt.xlabel('Epochs')\n",
    "plt.ylabel('Accuracy')\n",
    "plt.title('Model Accuracy')\n",
    "plt.legend()\n",
    "plt.show()\n",
    "\n",
    "# Loss plot\n",
    "plt.plot(history.history['loss'], label='Train Loss')\n",
    "plt.plot(history.history['val_loss'], label='Val Loss')\n",
    "plt.xlabel('Epochs')\n",
    "plt.ylabel('Loss')\n",
    "plt.title('Model Loss')\n",
    "plt.legend()\n",
    "plt.show()\n"
   ]
  },
  {
   "cell_type": "code",
   "execution_count": 9,
   "id": "c1857382",
   "metadata": {},
   "outputs": [
    {
     "name": "stdout",
     "output_type": "stream",
     "text": [
      "\u001b[1m30/30\u001b[0m \u001b[32m━━━━━━━━━━━━━━━━━━━━\u001b[0m\u001b[37m\u001b[0m \u001b[1m0s\u001b[0m 7ms/step - accuracy: 0.8981 - loss: 0.2816\n",
      "Test Accuracy: 89.26%\n"
     ]
    }
   ],
   "source": [
    "# Evaluate\n",
    "loss, acc = model.evaluate(X_test, y_test)\n",
    "print(f\"Test Accuracy: {acc*100:.2f}%\")"
   ]
  },
  {
   "cell_type": "code",
   "execution_count": 10,
   "id": "f0db4c04",
   "metadata": {},
   "outputs": [
    {
     "name": "stderr",
     "output_type": "stream",
     "text": [
      "WARNING:absl:You are saving your model as an HDF5 file via `model.save()` or `keras.saving.save_model(model)`. This file format is considered legacy. We recommend using instead the native Keras format, e.g. `model.save('my_model.keras')` or `keras.saving.save_model(model, 'my_model.keras')`. \n"
     ]
    }
   ],
   "source": [
    "# Save the model\n",
    "model.save(\"lstm_emotion_model.h5\")\n",
    "\n",
    "# Save preprocessors\n",
    "with open(\"scaler.pkl\", \"wb\") as f:\n",
    "    pickle.dump(scaler, f)\n",
    "\n",
    "with open(\"pt.pkl\", \"wb\") as f:\n",
    "    pickle.dump(pt, f)\n",
    "\n",
    "with open(\"label_encoder.pkl\", \"wb\") as f:\n",
    "    pickle.dump(le, f)"
   ]
  },
  {
   "cell_type": "code",
   "execution_count": 11,
   "id": "30d774e5",
   "metadata": {},
   "outputs": [
    {
     "name": "stderr",
     "output_type": "stream",
     "text": [
      "WARNING:absl:Compiled the loaded model, but the compiled metrics have yet to be built. `model.compile_metrics` will be empty until you train or evaluate the model.\n"
     ]
    },
    {
     "name": "stdout",
     "output_type": "stream",
     "text": [
      "\u001b[1m1/1\u001b[0m \u001b[32m━━━━━━━━━━━━━━━━━━━━\u001b[0m\u001b[37m\u001b[0m \u001b[1m0s\u001b[0m 301ms/step\n",
      "🎧 Predicted Emotion: happy\n"
     ]
    }
   ],
   "source": [
    "import numpy as np\n",
    "import pickle\n",
    "from tensorflow.keras.models import load_model\n",
    "\n",
    "# Load saved model and preprocessors\n",
    "model = load_model(\"lstm_emotion_model.h5\")\n",
    "\n",
    "with open(\"scaler.pkl\", \"rb\") as f:\n",
    "    scaler = pickle.load(f)\n",
    "\n",
    "with open(\"pt.pkl\", \"rb\") as f:\n",
    "    pt = pickle.load(f)\n",
    "\n",
    "with open(\"label_encoder.pkl\", \"rb\") as f:\n",
    "    le = pickle.load(f)\n",
    "\n",
    "# Define a dummy label extractor for testing (no label needed, just return 'neutral' or anything valid)\n",
    "def dummy_label_extractor(file):\n",
    "    return 'neutral'\n",
    "\n",
    "# Import your feature extractor\n",
    "# from your_project import extract_features  # if not in this script\n",
    "\n",
    "# Path to your external .wav file\n",
    "file_path = r\"C:\\Users\\abdul\\Downloads\\audio-testing\\anger.wav\"\n",
    "\n",
    "# Extract features (use dummy label extractor)\n",
    "features, _ = extract_features(file_path, dummy_label_extractor)\n",
    "\n",
    "# Predict\n",
    "if features:\n",
    "    X_new = np.array(features).reshape(1, -1)\n",
    "    X_new = pt.transform(X_new)\n",
    "    X_new = scaler.transform(X_new)\n",
    "    X_new = X_new.reshape((1, 1, X_new.shape[1]))  # (batch, timesteps, features)\n",
    "\n",
    "    prediction = model.predict(X_new)\n",
    "    predicted_emotion = le.inverse_transform([np.argmax(prediction)])\n",
    "\n",
    "    print(\"🎧 Predicted Emotion:\", predicted_emotion[0])\n",
    "else:\n",
    "    print(\"❌ Failed to extract features from the audio file.\")\n"
   ]
  },
  {
   "cell_type": "code",
   "execution_count": null,
   "id": "4e98ebb0",
   "metadata": {},
   "outputs": [],
   "source": []
  },
  {
   "cell_type": "code",
   "execution_count": null,
   "id": "d6b24a9c",
   "metadata": {},
   "outputs": [],
   "source": []
  }
 ],
 "metadata": {
  "kernelspec": {
   "display_name": "Python 3",
   "language": "python",
   "name": "python3"
  },
  "language_info": {
   "codemirror_mode": {
    "name": "ipython",
    "version": 3
   },
   "file_extension": ".py",
   "mimetype": "text/x-python",
   "name": "python",
   "nbconvert_exporter": "python",
   "pygments_lexer": "ipython3",
   "version": "3.10.11"
  }
 },
 "nbformat": 4,
 "nbformat_minor": 5
}
